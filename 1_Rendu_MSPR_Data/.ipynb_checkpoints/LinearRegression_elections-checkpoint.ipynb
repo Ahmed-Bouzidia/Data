{
 "cells": [
  {
   "cell_type": "markdown",
   "id": "e8e7608d-a99f-4ae8-9930-5c1f292347e3",
   "metadata": {},
   "source": [
    "# Regression linéaire "
   ]
  },
  {
   "cell_type": "markdown",
   "id": "a539a1b9-19a2-49e3-957d-a5efccde9697",
   "metadata": {},
   "source": [
    "# Lire les données des elections"
   ]
  },
  {
   "cell_type": "code",
   "execution_count": 3,
   "id": "c91515a7-b3c6-49ef-9696-215e8e031daa",
   "metadata": {},
   "outputs": [],
   "source": [
    "import pandas as pd\n",
    "\n",
    "\n",
    "# Essayer avec l'encodage 'ISO-8859-1'\n",
    "data = pd.read_csv('données/Nettoyées_Et_Modifiées/Elections/Elections_12_17_22.csv', sep=';', encoding='ISO-8859-1')\n",
    "\n",
    "# ou essayer avec l'encodage 'cp1252'\n",
    "# df = pd.read_csv('données/Nettoyées_Et_Modifiées/Elections/Elections_12_17_22.csv', sep=';', encoding='cp1252')"
   ]
  },
  {
   "cell_type": "markdown",
   "id": "6291d638-eb59-4e01-baa1-16639535d2c0",
   "metadata": {},
   "source": [
    "# Limiter les données sur 2017 et 2022"
   ]
  },
  {
   "cell_type": "code",
   "execution_count": 5,
   "id": "953712a6-d80a-45c5-896a-dad8c3495814",
   "metadata": {},
   "outputs": [
    {
     "name": "stdout",
     "output_type": "stream",
     "text": [
      "       Annee  Tour  Nombre_candidat  Code_du_departement  \\\n",
      "16788   2017     1               11                   75   \n",
      "16789   2017     1               11                   75   \n",
      "16790   2017     1               11                   77   \n",
      "16791   2017     1               11                   77   \n",
      "16792   2017     1               11                   77   \n",
      "\n",
      "      Libelle_du_departement  Code_de_la_commune Libelle_de_la_commune  \\\n",
      "16788                  Paris                  56                 Paris   \n",
      "16789                  Paris                  56                 Paris   \n",
      "16790         Seine-et-Marne                   1      Achères-la-Forêt   \n",
      "16791         Seine-et-Marne                   1      Achères-la-Forêt   \n",
      "16792         Seine-et-Marne                   2               Amillis   \n",
      "\n",
      "       Inscrits  Abstentions  Nombre_votants  Blancs_et_nulls Nom_candidat  \\\n",
      "16788   1301637       210200         1091437            14878       macron   \n",
      "16789   1301637       210200         1091437            14878       fillon   \n",
      "16790       886          134             752               23       fillon   \n",
      "16791       886          134             752               23       macron   \n",
      "16792       568           78             490               16       le pen   \n",
      "\n",
      "      Sexe   Age  Nombre_voix   Parti_politique Orientation_politique  \n",
      "16788    H  39.0       375006        En Marche!                Centre  \n",
      "16789    H  63.0       284744  Les Republicains                Droite  \n",
      "16790    H  63.0          210  Les Republicains                Droite  \n",
      "16791    H  39.0          181        En Marche!                Centre  \n",
      "16792    F  49.0          176    Front National        Extreme droite  \n"
     ]
    }
   ],
   "source": [
    "# Filtrer les données pour les années 2017 et 2022\n",
    "filtered_data = data[data['Annee'].isin([2017, 2022])]\n",
    "\n",
    "# Afficher les premières lignes pour vérifier\n",
    "print(filtered_data.head())"
   ]
  },
  {
   "cell_type": "markdown",
   "id": "6770365d-0347-486d-8dc6-fcf746385418",
   "metadata": {},
   "source": [
    "# Ajouter une colonne 'id' avec la valeur 1 pour 2017 et 2 pour 2022"
   ]
  },
  {
   "cell_type": "code",
   "execution_count": 51,
   "id": "37a8a941-c7e2-4bab-981b-28fbb43cf85e",
   "metadata": {},
   "outputs": [
    {
     "name": "stdout",
     "output_type": "stream",
     "text": [
      "       Annee  Tour  Nombre_candidat  Code_du_departement  \\\n",
      "16788   2017     1               11                   75   \n",
      "16789   2017     1               11                   75   \n",
      "16790   2017     1               11                   77   \n",
      "16791   2017     1               11                   77   \n",
      "16792   2017     1               11                   77   \n",
      "\n",
      "      Libelle_du_departement  Code_de_la_commune Libelle_de_la_commune  \\\n",
      "16788                  Paris                  56                 Paris   \n",
      "16789                  Paris                  56                 Paris   \n",
      "16790         Seine-et-Marne                   1      Achères-la-Forêt   \n",
      "16791         Seine-et-Marne                   1      Achères-la-Forêt   \n",
      "16792         Seine-et-Marne                   2               Amillis   \n",
      "\n",
      "       Inscrits  Abstentions  Nombre_votants  Blancs_et_nulls Nom_candidat  \\\n",
      "16788   1301637       210200         1091437            14878       macron   \n",
      "16789   1301637       210200         1091437            14878       fillon   \n",
      "16790       886          134             752               23       fillon   \n",
      "16791       886          134             752               23       macron   \n",
      "16792       568           78             490               16       le pen   \n",
      "\n",
      "      Sexe   Age  Nombre_voix   Parti_politique Orientation_politique  id  \n",
      "16788    H  39.0       375006        En Marche!                Centre   1  \n",
      "16789    H  63.0       284744  Les Republicains                Droite   1  \n",
      "16790    H  63.0          210  Les Republicains                Droite   1  \n",
      "16791    H  39.0          181        En Marche!                Centre   1  \n",
      "16792    F  49.0          176    Front National        Extreme droite   1  \n"
     ]
    }
   ],
   "source": [
    "# Ajouter une colonne 'id' avec la valeur 1 pour 2017 et 2 pour 2022\n",
    "filtered_data.loc[:, 'id'] = filtered_data['Annee'].apply(lambda x: 1 if x == 2017 else (2 if x == 2022 else None))\n",
    "\n",
    "# Afficher les premières lignes pour vérifier\n",
    "print(filtered_data.head())"
   ]
  },
  {
   "cell_type": "markdown",
   "id": "cce7bfa7-29f8-467e-8154-c478aba9953e",
   "metadata": {},
   "source": [
    "# Ajout du contexte de la securité"
   ]
  },
  {
   "cell_type": "code",
   "execution_count": 43,
   "id": "24893a41-0f7c-4f42-9a5d-7117238e56e2",
   "metadata": {},
   "outputs": [],
   "source": [
    "delinquency_file_path = 'données/Nettoyées_Et_Modifiées/Contextes/delinquance_idf.csv'"
   ]
  },
  {
   "cell_type": "code",
   "execution_count": 52,
   "id": "69502c9a-ca4d-437b-b5ad-e573a16e7d0a",
   "metadata": {},
   "outputs": [],
   "source": [
    "#Charger les données de délinquance\n",
    "delinquency_data = pd.read_csv(delinquency_file_path, sep=',', encoding='ISO-8859-1')\n"
   ]
  },
  {
   "cell_type": "markdown",
   "id": "752f869b-b63d-4c22-bcb7-f7a57c850637",
   "metadata": {},
   "source": [
    "# Ajouter une colonne 'id' basée sur l'année"
   ]
  },
  {
   "cell_type": "code",
   "execution_count": 53,
   "id": "24ab2917-9af0-43f6-a0fc-87e400f5e180",
   "metadata": {},
   "outputs": [
    {
     "name": "stdout",
     "output_type": "stream",
     "text": [
      "      classe  annee  Code.dÃ©partement  Code.rÃ©gion unitÃ©.de.compte  \\\n",
      "0  Homicides     16                 75            11          victime   \n",
      "1  Homicides     16                 77            11          victime   \n",
      "2  Homicides     16                 78            11          victime   \n",
      "3  Homicides     16                 91            11          victime   \n",
      "4  Homicides     16                 92            11          victime   \n",
      "\n",
      "   millPOP  millLOG  faits      POP           LOG  tauxpourmille   id  \n",
      "0       16       16     31  2190327  1.374377e+06       0.014153  1.0  \n",
      "1       16       16      7  1397665  6.046272e+05       0.005008  1.0  \n",
      "2       16       16      8  1431808  6.293828e+05       0.005587  1.0  \n",
      "3       16       16     18  1287330  5.508949e+05       0.013982  1.0  \n",
      "4       16       16      5  1603268  7.898089e+05       0.003119  1.0  \n"
     ]
    }
   ],
   "source": [
    "\n",
    "# Ajouter une colonne 'id' basée sur l'année\n",
    "delinquency_data['id'] = delinquency_data['annee'].apply(\n",
    "    lambda x: 1 if x == 16 else (2 if 18 <= x <= 21 else None)\n",
    ")\n",
    "\n",
    "# Afficher les premières lignes pour vérifier\n",
    "print(delinquency_data.head())"
   ]
  },
  {
   "cell_type": "markdown",
   "id": "71486328-7960-4350-8f2d-eb4e71528712",
   "metadata": {},
   "source": [
    "# Supprimer la collone année dans le contexte de la securité"
   ]
  },
  {
   "cell_type": "code",
   "execution_count": 54,
   "id": "3df8fc51-cf3d-480a-86c4-0a051c110513",
   "metadata": {},
   "outputs": [],
   "source": [
    "delinquency_data=delinquency_data.drop(columns=['annee'])"
   ]
  },
  {
   "cell_type": "code",
   "execution_count": 55,
   "id": "1c6ebb25-1a5b-4243-a146-7d6051bf80e7",
   "metadata": {},
   "outputs": [
    {
     "name": "stdout",
     "output_type": "stream",
     "text": [
      "                     classe  Code.dÃ©partement  Code.rÃ©gion unitÃ©.de.compte  \\\n",
      "0                 Homicides                 75            11          victime   \n",
      "1                 Homicides                 77            11          victime   \n",
      "2                 Homicides                 78            11          victime   \n",
      "3                 Homicides                 91            11          victime   \n",
      "4                 Homicides                 92            11          victime   \n",
      "...                     ...                ...           ...              ...   \n",
      "1019  Usage de stupÃ©fiants                 91            11     Mis en cause   \n",
      "1020  Usage de stupÃ©fiants                 92            11     Mis en cause   \n",
      "1021  Usage de stupÃ©fiants                 93            11     Mis en cause   \n",
      "1022  Usage de stupÃ©fiants                 94            11     Mis en cause   \n",
      "1023  Usage de stupÃ©fiants                 95            11     Mis en cause   \n",
      "\n",
      "      millPOP  millLOG  faits      POP           LOG  tauxpourmille   id  \n",
      "0          16       16     31  2190327  1.374377e+06       0.014153  1.0  \n",
      "1          16       16      7  1397665  6.046272e+05       0.005008  1.0  \n",
      "2          16       16      8  1431808  6.293828e+05       0.005587  1.0  \n",
      "3          16       16     18  1287330  5.508949e+05       0.013982  1.0  \n",
      "4          16       16      5  1603268  7.898089e+05       0.003119  1.0  \n",
      "...       ...      ...    ...      ...           ...            ...  ...  \n",
      "1019       21       21   4837  1313768  5.877104e+05       3.681776  NaN  \n",
      "1020       21       21   6293  1635291  8.243723e+05       3.848245  NaN  \n",
      "1021       21       21  10203  1668670  7.052818e+05       6.114450  NaN  \n",
      "1022       21       21   6973  1415367  6.621675e+05       4.926637  NaN  \n",
      "1023       21       21   6053  1256607  5.299259e+05       4.816940  NaN  \n",
      "\n",
      "[1024 rows x 11 columns]\n"
     ]
    }
   ],
   "source": [
    "print(delinquency_data)"
   ]
  },
  {
   "cell_type": "markdown",
   "id": "a89678e8-7cab-4e17-b4ed-8780e28927be",
   "metadata": {},
   "source": [
    "# Fusionner le contexte avec les donnes d'elections\n"
   ]
  },
  {
   "cell_type": "code",
   "execution_count": 60,
   "id": "3be81457-ef42-43ec-b817-4f2252a4b903",
   "metadata": {},
   "outputs": [],
   "source": [
    "# Fusionner les DataFrames sur les colonnes 'id' et les colonnes de département\n",
    "merged_df = pd.merge(delinquency_data,filtered_data, left_on=['id', 'Code.dÃ©partement'], right_on=['id', 'Code_du_departement'], how='inner')\n",
    "\n",
    "# Afficher le DataFrame fusionné\n",
    "#print(merged_df.columns)\n"
   ]
  },
  {
   "cell_type": "markdown",
   "id": "a76fec4f-4e87-43c6-a572-d606f3995017",
   "metadata": {},
   "source": [
    "# Model d'apprentissage "
   ]
  },
  {
   "cell_type": "markdown",
   "id": "79d66297-f5c8-49a5-a602-569d4eaee7fb",
   "metadata": {},
   "source": [
    "# features = ['POP', 'LOG', 'Sexe', 'Age', 'Orientation_politique']"
   ]
  },
  {
   "cell_type": "code",
   "execution_count": 61,
   "id": "13eb1723-6215-4bc1-8359-77ac14309d9c",
   "metadata": {},
   "outputs": [
    {
     "name": "stdout",
     "output_type": "stream",
     "text": [
      "R² score: 0.08\n"
     ]
    }
   ],
   "source": [
    "# Sélectionner les colonnes pour les features et le label\n",
    "features = ['POP', 'LOG', 'Sexe', 'Age', 'Orientation_politique']\n",
    "label = 'Nombre_voix'\n",
    "\n",
    "# Extraire les caractéristiques et le label\n",
    "X = merged_df[features]\n",
    "y = merged_df[label]\n",
    "\n",
    "# Gestion des valeurs manquantes\n",
    "X = X.dropna()  # Supprimer les lignes avec des valeurs manquantes\n",
    "y = y[X.index]  # Assurer que 'y' correspond à 'X'\n",
    "\n",
    "# Préparer les transformations\n",
    "preprocessor = ColumnTransformer(\n",
    "    transformers=[\n",
    "        ('num', Pipeline(steps=[\n",
    "            ('imputer', SimpleImputer(strategy='median')),\n",
    "            ('scaler', StandardScaler())\n",
    "        ]), ['POP', 'LOG', 'Age']),\n",
    "        ('cat', Pipeline(steps=[\n",
    "            ('imputer', SimpleImputer(strategy='most_frequent')),\n",
    "            ('onehot', OneHotEncoder())\n",
    "        ]), ['Sexe', 'Orientation_politique'])\n",
    "    ])\n",
    "\n",
    "# Créer le pipeline\n",
    "model_pipeline = Pipeline(steps=[\n",
    "    ('preprocessor', preprocessor),\n",
    "    ('regressor', LinearRegression())\n",
    "])\n",
    "\n",
    "# Séparer les données en ensemble d'entraînement et de test\n",
    "X_train, X_test, y_train, y_test = train_test_split(X, y, test_size=0.2, random_state=42)\n",
    "\n",
    "# Entraîner le modèle\n",
    "model_pipeline.fit(X_train, y_train)\n",
    "\n",
    "# Évaluer le modèle\n",
    "score = model_pipeline.score(X_test, y_test)\n",
    "print(f'R² score: {score:.2f}')\n"
   ]
  },
  {
   "cell_type": "code",
   "execution_count": null,
   "id": "b643e804-d026-48d2-8904-8cc7f892c6a5",
   "metadata": {},
   "outputs": [],
   "source": []
  }
 ],
 "metadata": {
  "kernelspec": {
   "display_name": "Python 3 (ipykernel)",
   "language": "python",
   "name": "python3"
  },
  "language_info": {
   "codemirror_mode": {
    "name": "ipython",
    "version": 3
   },
   "file_extension": ".py",
   "mimetype": "text/x-python",
   "name": "python",
   "nbconvert_exporter": "python",
   "pygments_lexer": "ipython3",
   "version": "3.10.0"
  }
 },
 "nbformat": 4,
 "nbformat_minor": 5
}
