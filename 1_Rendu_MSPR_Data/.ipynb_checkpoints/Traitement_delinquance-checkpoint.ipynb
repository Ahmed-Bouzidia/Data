{
 "cells": [
  {
   "cell_type": "markdown",
   "id": "ded4f97a-d9fd-410d-81ac-40266dc1cfa6",
   "metadata": {},
   "source": [
    "\n",
    "# Séparation des données en deux groupes : périodes 2016-2017 et 2018-2022"
   ]
  },
  {
   "cell_type": "code",
   "execution_count": 20,
   "id": "3ba8b4aa-26d4-42cc-abb8-7034b7c9f4e8",
   "metadata": {},
   "outputs": [
    {
     "name": "stdout",
     "output_type": "stream",
     "text": [
      "Type de la colonne 'année' avant conversion : int64\n",
      "Type de la colonne 'année' après conversion : int64\n",
      "Les fichiers ont été nettoyés et enregistrés avec succès.\n"
     ]
    }
   ],
   "source": [
    "import pandas as pd\n",
    "\n",
    "# Lire le fichier CSV\n",
    "df = pd.read_csv('données/originales/Contextes/delinquance_idf.csv', encoding='utf-8')\n",
    "\n",
    "# Renommer les colonnes mal encodées (si nécessaire)\n",
    "df.columns = df.columns.str.replace('Ã©', 'é').str.replace('Ã', 'à')\n",
    "\n",
    "# Vérifier si la colonne 'annee' existe bien\n",
    "if 'annee' in df.columns:\n",
    "    # Vérifier le type de la colonne 'annee'\n",
    "    print(\"Type de la colonne 'annee' avant conversion :\", df['annee'].dtype)\n",
    "\n",
    "    # Convertir la colonne 'annee' en entier (ignorer les erreurs)\n",
    "    df['annee'] = pd.to_numeric(df['annee'], errors='coerce')\n",
    "\n",
    "    # Vérifier après la conversion\n",
    "    print(\"Type de la colonne 'annee' après conversion :\", df['annee'].dtype)\n",
    "\n",
    "    # Filtrer les données pour la période 2018-2022\n",
    "    df_2018_2022 = df[(df['annee'] >= 2018) & (df['annee'] <= 2022)]\n",
    "\n",
    "    # Filtrer les données pour la période 2016-2017\n",
    "    df_2016_2017 = df[(df['annee'] >= 2016) & (df['annee'] <= 2017)]\n",
    "\n",
    "    # Vérifier que les filtres ne retournent pas des DataFrames vides\n",
    "    print(\"Nombre de lignes dans le fichier 2018-2022 :\", len(df_2018_2022))\n",
    "    print(\"Nombre de lignes dans le fichier 2016-2017 :\", len(df_2016_2017))\n",
    "\n",
    "    # Sauvegarder les fichiers triés\n",
    "    df_2018_2022.to_csv('delinquance_2018_2022.csv', index=False)\n",
    "    df_2016_2017.to_csv('delinquance_2016_2017.csv', index=False)\n",
    "\n",
    "    print(\"Les fichiers ont été nettoyés et enregistrés avec succès.\")\n",
    "else:\n",
    "    print(\"La colonne 'annee' n'existe pas dans le fichier.\")\n"
   ]
  },
  {
   "cell_type": "code",
   "execution_count": null,
   "id": "94500516-24dd-4914-a9e0-ba4faa51bfba",
   "metadata": {},
   "outputs": [],
   "source": []
  },
  {
   "cell_type": "code",
   "execution_count": null,
   "id": "991a0ace-6ed0-4f60-b2cc-4e5b4250a4ee",
   "metadata": {},
   "outputs": [],
   "source": []
  }
 ],
 "metadata": {
  "kernelspec": {
   "display_name": "Python 3 (ipykernel)",
   "language": "python",
   "name": "python3"
  },
  "language_info": {
   "codemirror_mode": {
    "name": "ipython",
    "version": 3
   },
   "file_extension": ".py",
   "mimetype": "text/x-python",
   "name": "python",
   "nbconvert_exporter": "python",
   "pygments_lexer": "ipython3",
   "version": "3.10.0"
  }
 },
 "nbformat": 4,
 "nbformat_minor": 5
}
